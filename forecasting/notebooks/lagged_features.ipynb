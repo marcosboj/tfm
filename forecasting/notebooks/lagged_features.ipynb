{
 "cells": [
  {
   "cell_type": "code",
   "id": "initial_id",
   "metadata": {
    "collapsed": true
   },
   "source": [
    "from pathlib import Path\n",
    "import pandas as pd"
   ],
   "outputs": [],
   "execution_count": null
  },
  {
   "metadata": {},
   "cell_type": "code",
   "source": [
    "from tfmforecasting.dataset import AdditionalHousingUnitFields\n",
    "from tfmforecasting.dataset import HousingUnitColumns\n",
    "from tfmforecasting.preprocessing import add_datetime_column\n",
    "from tfmforecasting.preprocessing import lag_consumption_feature"
   ],
   "id": "82f67f5831bc3e49",
   "outputs": [],
   "execution_count": null
  },
  {
   "metadata": {},
   "cell_type": "markdown",
   "source": [
    "## Data Files\n",
    "Location of households consumption data."
   ],
   "id": "358bde37c0c35239"
  },
  {
   "metadata": {},
   "cell_type": "code",
   "source": [
    "consumption_data_dir = Path('../../analisis_consumos/data/viviendas/por_mes_con_cluster/cluster_4/')\n",
    "consumption_csv = consumption_data_dir / 'ABLD_2023_02_cluster_k4_id_1.csv'\n",
    "consumption_df = pd.read_csv(consumption_csv, delimiter=';')\n",
    "consumption_df.head()"
   ],
   "id": "1721841a97ee41e2",
   "outputs": [],
   "execution_count": null
  },
  {
   "metadata": {},
   "cell_type": "markdown",
   "source": "## Preprocessing",
   "id": "1b7cd47764ab01fc"
  },
  {
   "metadata": {},
   "cell_type": "markdown",
   "source": "### Feature Engineering",
   "id": "92a8a1f19e855578"
  },
  {
   "metadata": {},
   "cell_type": "markdown",
   "source": "Add datetime column.",
   "id": "6a9fc2d93737c0fe"
  },
  {
   "metadata": {},
   "cell_type": "code",
   "source": [
    "processed_df = add_datetime_column(consumption_df)\n",
    "processed_df.head(n=24)"
   ],
   "id": "1760b44ce17fd734",
   "outputs": [],
   "execution_count": null
  },
  {
   "metadata": {},
   "cell_type": "markdown",
   "source": "Set the number of previous hourly consumption values to include as features in the dataset.",
   "id": "589bea7f15f7012b"
  },
  {
   "metadata": {},
   "cell_type": "code",
   "source": "n_lags = 4",
   "id": "979d366c1fbcdde0",
   "outputs": [],
   "execution_count": null
  },
  {
   "metadata": {},
   "cell_type": "code",
   "source": [
    "processed_df = lag_consumption_feature(processed_df, n_lags)\n",
    "consumption_columns = sorted([\n",
    "    column for column in processed_df.columns if HousingUnitColumns.Consumption in column\n",
    "], reverse=True)\n",
    "processed_df[[AdditionalHousingUnitFields.Datetime] + consumption_columns].dropna().head()"
   ],
   "id": "f54349309f05bedf",
   "outputs": [],
   "execution_count": null
  }
 ],
 "metadata": {
  "kernelspec": {
   "display_name": "Python 3",
   "language": "python",
   "name": "python3"
  },
  "language_info": {
   "codemirror_mode": {
    "name": "ipython",
    "version": 2
   },
   "file_extension": ".py",
   "mimetype": "text/x-python",
   "name": "python",
   "nbconvert_exporter": "python",
   "pygments_lexer": "ipython2",
   "version": "2.7.6"
  }
 },
 "nbformat": 4,
 "nbformat_minor": 5
}
