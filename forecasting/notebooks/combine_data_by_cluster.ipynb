{
 "cells": [
  {
   "cell_type": "code",
   "id": "initial_id",
   "metadata": {
    "collapsed": true
   },
   "source": [
    "from pathlib import Path\n",
    "import pandas as pd"
   ],
   "outputs": [],
   "execution_count": null
  },
  {
   "metadata": {},
   "cell_type": "code",
   "source": [
    "from tfmforecasting.dataset import AdditionalHousingUnitFields, HousingUnitColumns\n",
    "from tfmforecasting.preprocessing import (\n",
    "    add_datetime_to_housing_unit_dataset, lag_consumption_feature, name_lagged_feature\n",
    ")\n",
    "from tfmforecasting.utils import find_cluster_files, get_housing_unit_name"
   ],
   "id": "bf20dec6d6b64f39",
   "outputs": [],
   "execution_count": null
  },
  {
   "metadata": {},
   "cell_type": "markdown",
   "source": "## Cluster information",
   "id": "d1ec980ab5d71085"
  },
  {
   "metadata": {},
   "cell_type": "code",
   "source": [
    "n_clusters = 4\n",
    "target_cluster_id = 0\n",
    "year = 2024\n",
    "month = 5\n",
    "consumption_data_dir = Path('../../analisis_consumos/data/viviendas/por_mes_con_cluster/cluster_4/')\n",
    "consumption_data_dir = consumption_data_dir.resolve()"
   ],
   "id": "b79771c6ad2ddd75",
   "outputs": [],
   "execution_count": null
  },
  {
   "metadata": {},
   "cell_type": "markdown",
   "source": "Search the files that match the cluster information.",
   "id": "ac4e9b60d7f3f57"
  },
  {
   "metadata": {},
   "cell_type": "code",
   "source": [
    "cluster_files = find_cluster_files(consumption_data_dir, target_cluster_id, year=year, month=month)\n",
    "cluster_files.sort()\n",
    "cluster_files"
   ],
   "id": "37ea6008f25f3eb7",
   "outputs": [],
   "execution_count": null
  },
  {
   "metadata": {},
   "cell_type": "markdown",
   "source": "Set of housing units belonging to the cluster.",
   "id": "d53a0c1756de3f19"
  },
  {
   "metadata": {},
   "cell_type": "code",
   "source": "set([get_housing_unit_name(file) for file in cluster_files])",
   "id": "e1b7f0a61410d595",
   "outputs": [],
   "execution_count": null
  },
  {
   "metadata": {},
   "cell_type": "markdown",
   "source": "Load cluster files into DataFrames.",
   "id": "c4c9195c32e044aa"
  },
  {
   "metadata": {},
   "cell_type": "code",
   "source": [
    "csv_delimiter = ';'\n",
    "data_frames = []\n",
    "for cluster_file in cluster_files:\n",
    "    df = pd.read_csv(cluster_file, delimiter=csv_delimiter)\n",
    "    df = add_datetime_to_housing_unit_dataset(df)\n",
    "    df = lag_consumption_feature(df, n_lags=24)\n",
    "    df[AdditionalHousingUnitFields.HousingUnit] = get_housing_unit_name(cluster_file)\n",
    "    data_frames.append(df)\n",
    "cluster_data = pd.concat(data_frames)\n",
    "cluster_data = cluster_data.sort_values(by=[AdditionalHousingUnitFields.Datetime, AdditionalHousingUnitFields.HousingUnit]).reset_index(drop=True)\n",
    "cluster_data[cluster_data[AdditionalHousingUnitFields.HousingUnit] == 'ATF'][\n",
    "    [HousingUnitColumns.Date, HousingUnitColumns.Time] +\n",
    "    [name_lagged_feature(HousingUnitColumns.Consumption, lag) for lag in range(8, 0, -1)] +\n",
    "    [HousingUnitColumns.Consumption]\n",
    "].dropna().head(n=24)"
   ],
   "id": "ac76d2bd01b6e6da",
   "outputs": [],
   "execution_count": null
  }
 ],
 "metadata": {
  "kernelspec": {
   "display_name": "Python 3",
   "language": "python",
   "name": "python3"
  },
  "language_info": {
   "codemirror_mode": {
    "name": "ipython",
    "version": 2
   },
   "file_extension": ".py",
   "mimetype": "text/x-python",
   "name": "python",
   "nbconvert_exporter": "python",
   "pygments_lexer": "ipython2",
   "version": "2.7.6"
  }
 },
 "nbformat": 4,
 "nbformat_minor": 5
}
