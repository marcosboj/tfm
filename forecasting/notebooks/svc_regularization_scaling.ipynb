{
 "cells": [
  {
   "metadata": {},
   "cell_type": "code",
   "source": [
    "from datetime import timezone\n",
    "from pathlib import Path"
   ],
   "id": "19e315cf6ddd756",
   "outputs": [],
   "execution_count": null
  },
  {
   "metadata": {
    "collapsed": true
   },
   "cell_type": "code",
   "source": [
    "import numpy as np\n",
    "import pandas as pd\n",
    "from plotly.subplots import make_subplots\n",
    "import plotly.graph_objects as go\n",
    "from sklearn.model_selection import TimeSeriesSplit, validation_curve\n",
    "from sklearn.svm import SVR"
   ],
   "id": "initial_id",
   "outputs": [],
   "execution_count": null
  },
  {
   "metadata": {},
   "cell_type": "code",
   "source": [
    "from tfmmeteogalicia.dataset import load_wrf_hist_dataset\n",
    "from tfmmeteogalicia.thredds_wrf import MeteoGaliciaNetCDFSubsetColumns, ThreddsWRFDomain, ThreddsWRFServerRun\n",
    "from tfmforecasting.dataset import AdditionalHousingUnitFields, HousingUnitColumns\n",
    "from tfmforecasting.preprocessing import (\n",
    "    add_datetime_features, add_rbf, add_datetime_to_housing_unit_dataset, lag_consumption_feature, name_lagged_feature\n",
    ")\n",
    "from tfmforecasting.utils import find_cluster_files, get_housing_unit_name"
   ],
   "id": "a704fbf567ea45a3",
   "outputs": [],
   "execution_count": null
  },
  {
   "metadata": {},
   "cell_type": "code",
   "source": [
    "Cs = np.logspace(-8, 4, 11)\n",
    "year = 2024\n",
    "month = 5"
   ],
   "id": "7187daa56d1b53d9",
   "outputs": [],
   "execution_count": null
  },
  {
   "metadata": {},
   "cell_type": "code",
   "source": [
    "domain: ThreddsWRFDomain = \"d02\"\n",
    "server_run: ThreddsWRFServerRun = \"0000\"\n",
    "weather_data_dir = Path(\"../data/meteogalicia/thredds/wrf_hist\").resolve()"
   ],
   "id": "d2ac04b47c83191a",
   "outputs": [],
   "execution_count": null
  },
  {
   "metadata": {},
   "cell_type": "code",
   "source": [
    "start_date = pd.Timestamp(year=year, month=month, day=1, tz=timezone.utc)\n",
    "end_date = pd.Timestamp(year=year, month=month + 1, day=1, tz=timezone.utc) - pd.Timedelta(days=1)\n",
    "dates = pd.date_range(start=start_date, end=end_date)\n",
    "weather_by_days = [\n",
    "    load_wrf_hist_dataset(weather_data_dir, domain, server_run, date)\n",
    "    for date in dates\n",
    "]\n",
    "weather_by_days = [\n",
    "    df[df[MeteoGaliciaNetCDFSubsetColumns.DATE.value] < date + pd.Timedelta(days=1, hours=1)].copy().reset_index(drop=True)\n",
    "    for df, date in zip(weather_by_days, dates)\n",
    "]\n",
    "weather_data = pd.concat(weather_by_days)\n",
    "weather_data = weather_data.rename(columns={MeteoGaliciaNetCDFSubsetColumns.DATE.value: AdditionalHousingUnitFields.Datetime.value})\n",
    "weather_data.head(n=4)"
   ],
   "id": "28b08751f94708b1",
   "outputs": [],
   "execution_count": null
  },
  {
   "metadata": {},
   "cell_type": "code",
   "source": [
    "cluster_id = 0\n",
    "n_lags = 48\n",
    "lagged_features = sorted([\n",
    "    name_lagged_feature(HousingUnitColumns.Consumption.value, lag) for lag in range(24, 32)\n",
    "], reverse=True)\n",
    "consumption_data_dir = Path('../../analisis_consumos/data/viviendas/por_mes_con_cluster/cluster_4').resolve()"
   ],
   "id": "2724dcbb9e0f3782",
   "outputs": [],
   "execution_count": null
  },
  {
   "metadata": {},
   "cell_type": "code",
   "source": [
    "cluster_files = find_cluster_files(consumption_data_dir, cluster_id, year=year, month=month)\n",
    "cluster_files.sort()\n",
    "housing_units = set([get_housing_unit_name(file) for file in cluster_files])\n",
    "n_housing_units = len(housing_units)\n",
    "housing_units"
   ],
   "id": "3759ec395095e6b1",
   "outputs": [],
   "execution_count": null
  },
  {
   "metadata": {},
   "cell_type": "code",
   "source": [
    "csv_delimiter = ';'\n",
    "rbf_target_column = AdditionalHousingUnitFields.Hour.value\n",
    "rbf_period = 7\n",
    "rbf_input_range = (0, 24)\n",
    "rbf_columns = [f\"{rbf_target_column}_rbf_{i}\" for i in range(rbf_period)]"
   ],
   "id": "37c2487c2b28d290",
   "outputs": [],
   "execution_count": null
  },
  {
   "metadata": {},
   "cell_type": "code",
   "source": [
    "data_frames = []\n",
    "for cluster_file in cluster_files:\n",
    "    df = pd.read_csv(cluster_file, delimiter=csv_delimiter)\n",
    "    df = add_datetime_to_housing_unit_dataset(df)\n",
    "    df = add_datetime_features(df)\n",
    "    df = lag_consumption_feature(df, n_lags=n_lags)\n",
    "    df[AdditionalHousingUnitFields.HousingUnit.value] = get_housing_unit_name(cluster_file)\n",
    "    rbf_df = add_rbf(\n",
    "        df.set_index(AdditionalHousingUnitFields.Datetime.value),\n",
    "        column=rbf_target_column, period=rbf_period, input_range=rbf_input_range\n",
    "    )\n",
    "    df = df.merge(rbf_df, left_on=AdditionalHousingUnitFields.Datetime.value, right_on=rbf_df.index)\n",
    "    data_frames.append(df)"
   ],
   "id": "43d49963aa62a9b8",
   "outputs": [],
   "execution_count": null
  },
  {
   "metadata": {},
   "cell_type": "code",
   "source": [
    "cluster_data = pd.concat(data_frames)\n",
    "cluster_data = cluster_data.sort_values(\n",
    "    by=[AdditionalHousingUnitFields.Datetime.value, AdditionalHousingUnitFields.HousingUnit.value]\n",
    ").reset_index(drop=True)\n",
    "consumption_columns = lagged_features + [HousingUnitColumns.Consumption.value]\n",
    "cluster_data = cluster_data[\n",
    "    [\n",
    "        AdditionalHousingUnitFields.Datetime.value,\n",
    "        AdditionalHousingUnitFields.HousingUnit.value\n",
    "    ] + rbf_columns + consumption_columns\n",
    "].copy().dropna().reset_index(drop=True)\n",
    "cluster_data[cluster_data[AdditionalHousingUnitFields.HousingUnit.value] == 'ATF'].head(n=24)"
   ],
   "id": "c6eb315094f96716",
   "outputs": [],
   "execution_count": null
  },
  {
   "metadata": {},
   "cell_type": "code",
   "source": [
    "rbf_sample_df = data_frames[0]\n",
    "rbf_sample_df"
   ],
   "id": "b35a663371a24941",
   "outputs": [],
   "execution_count": null
  },
  {
   "metadata": {},
   "cell_type": "code",
   "source": [
    "fig = make_subplots(rows=len(rbf_columns), cols=1, shared_xaxes=True, vertical_spacing=0.05)\n",
    "may_week = rbf_sample_df[\n",
    "    (rbf_sample_df[AdditionalHousingUnitFields.Datetime.value] >= '2024-05-05') &\n",
    "    (rbf_sample_df[AdditionalHousingUnitFields.Datetime.value] < '2024-05-11')\n",
    "]\n",
    "for row, column in zip(range(len(rbf_columns)), rbf_columns):\n",
    "    fig.add_trace(\n",
    "        go.Scatter(x=may_week.index, y=may_week[column], name=f\"{column}\"),\n",
    "        row=row + 1, col=1\n",
    "    )\n",
    "fig.update_layout(height=600, title_text=\"Stacked Subplots with Shared X-Axes\")\n",
    "fig.show()"
   ],
   "id": "4176879b5d5438f9",
   "outputs": [],
   "execution_count": null
  },
  {
   "metadata": {},
   "cell_type": "code",
   "source": [
    "merged_df = pd.merge(\n",
    "    cluster_data,\n",
    "    weather_data[[AdditionalHousingUnitFields.Datetime.value, MeteoGaliciaNetCDFSubsetColumns.TEMP.value]],\n",
    "    on=AdditionalHousingUnitFields.Datetime.value\n",
    ").sort_values(by=[AdditionalHousingUnitFields.Datetime.value, AdditionalHousingUnitFields.HousingUnit.value]).reset_index(drop=True)\n",
    "merged_df.head(n=4)"
   ],
   "id": "fe871290beb97e5",
   "outputs": [],
   "execution_count": null
  },
  {
   "metadata": {},
   "cell_type": "code",
   "source": [
    "features = lagged_features + rbf_columns + [MeteoGaliciaNetCDFSubsetColumns.TEMP.value]\n",
    "target = HousingUnitColumns.Consumption.value\n",
    "features, target"
   ],
   "id": "b3bb3dc609683c93",
   "outputs": [],
   "execution_count": null
  },
  {
   "metadata": {},
   "cell_type": "code",
   "source": [
    "max_temp = 34.2 + 273.15\n",
    "min_temp = 4 + 273.15\n",
    "min_temp, max_temp"
   ],
   "id": "1536f396a3874a30",
   "outputs": [],
   "execution_count": null
  },
  {
   "metadata": {},
   "cell_type": "code",
   "source": [
    "max_consumption = merged_df[HousingUnitColumns.Consumption].max()\n",
    "min_consumption = merged_df[HousingUnitColumns.Consumption].min()\n",
    "min_consumption, max_consumption"
   ],
   "id": "a6edefbd595dd620",
   "outputs": [],
   "execution_count": null
  },
  {
   "metadata": {},
   "cell_type": "code",
   "source": [
    "window_size = 21  # days\n",
    "target_day = pd.Timestamp(year=year, month=month, day=27, hour=0, minute=0, second=0, microsecond=0, tz=timezone.utc)\n",
    "window_start = target_day - pd.Timedelta(days=window_size)\n",
    "sliced_df = merged_df[\n",
    "    (\n",
    "            merged_df[AdditionalHousingUnitFields.Datetime] >= window_start + pd.Timedelta(days=-1)\n",
    "    ) & (\n",
    "            merged_df[AdditionalHousingUnitFields.Datetime] < target_day + pd.Timedelta(days=1)\n",
    "    )\n",
    "    ].copy().reset_index(drop=True)\n",
    "for lagged_feature in lagged_features:\n",
    "    if lagged_feature not in features:\n",
    "        continue\n",
    "    sliced_df[lagged_feature] = (sliced_df[lagged_feature] - min_consumption) / (max_consumption - min_consumption)\n",
    "sliced_df[MeteoGaliciaNetCDFSubsetColumns.TEMP] = (sliced_df[MeteoGaliciaNetCDFSubsetColumns.TEMP] - min_temp) / (\n",
    "        max_temp - min_temp)\n",
    "sliced_df.shape"
   ],
   "id": "afacc8a7dbdf0a8",
   "outputs": [],
   "execution_count": null
  },
  {
   "metadata": {},
   "cell_type": "code",
   "source": [
    "X = sliced_df[features].to_numpy()\n",
    "y = sliced_df[HousingUnitColumns.Consumption].to_numpy()\n",
    "sliced_df[features]"
   ],
   "id": "23da697f1612363",
   "outputs": [],
   "execution_count": null
  },
  {
   "metadata": {},
   "cell_type": "code",
   "source": [
    "n_samples = n_housing_units * window_size * 24\n",
    "target_size = n_housing_units * 24\n",
    "n_splits = 2\n",
    "tscv = TimeSeriesSplit(max_train_size=n_samples, n_splits=n_splits, test_size=target_size)\n",
    "for i, (train_index, test_index) in enumerate(tscv.split(X)):\n",
    "    print(f\"Fold {i}:\")\n",
    "    print(f\"  Train: index={train_index}\")\n",
    "    print(f\"  Test:  index={test_index}\")"
   ],
   "id": "25d0dd9aeaf0e775",
   "outputs": [],
   "execution_count": null
  },
  {
   "metadata": {},
   "cell_type": "code",
   "source": [
    "Cs = np.logspace(-8, 4, 16) * np.sqrt(1 / n_samples)\n",
    "Cs"
   ],
   "id": "dd42f630c51eede",
   "outputs": [],
   "execution_count": null
  },
  {
   "metadata": {},
   "cell_type": "code",
   "source": [
    "model = SVR(kernel='rbf', gamma='scale', epsilon=0.01)\n",
    "train_scores, test_scores = validation_curve(\n",
    "    model,\n",
    "    X,\n",
    "    y,\n",
    "    param_name=\"C\",\n",
    "    param_range=Cs,\n",
    "    cv=tscv,\n",
    "    n_jobs=8,\n",
    "    scoring='neg_mean_absolute_percentage_error',\n",
    ")"
   ],
   "id": "bbf87dd8082c08a2",
   "outputs": [],
   "execution_count": null
  },
  {
   "metadata": {},
   "cell_type": "code",
   "source": [
    "results_df = pd.DataFrame({\n",
    "    \"C\": Cs,\n",
    "    \"test_scores\": test_scores[:, 1] * -100,\n",
    "    \"train_scores\": train_scores[:, 1] * -100,\n",
    "})\n",
    "fig = go.Figure()\n",
    "fig.add_trace(\n",
    "    go.Scatter(\n",
    "        x=results_df['C'],\n",
    "        y=results_df['test_scores'],\n",
    "        mode='lines+markers',\n",
    "        name='Test scores',\n",
    "    )\n",
    ")\n",
    "fig.add_trace(\n",
    "    go.Scatter(\n",
    "        x=results_df['C'],\n",
    "        y=results_df['train_scores'],\n",
    "        mode='lines+markers',\n",
    "        name='Train scores',\n",
    "    )\n",
    ")\n",
    "fig.update_xaxes(title_text=\"C\", type=\"log\")\n",
    "fig.update_yaxes(title_text=\"MAPE\")\n",
    "fig.show()"
   ],
   "id": "8e5d8297407f27de",
   "outputs": [],
   "execution_count": null
  }
 ],
 "metadata": {
  "kernelspec": {
   "display_name": "Python 3",
   "language": "python",
   "name": "python3"
  },
  "language_info": {
   "codemirror_mode": {
    "name": "ipython",
    "version": 2
   },
   "file_extension": ".py",
   "mimetype": "text/x-python",
   "name": "python",
   "nbconvert_exporter": "python",
   "pygments_lexer": "ipython2",
   "version": "2.7.6"
  }
 },
 "nbformat": 4,
 "nbformat_minor": 5
}
