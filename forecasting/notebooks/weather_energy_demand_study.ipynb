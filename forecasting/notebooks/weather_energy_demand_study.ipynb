{
 "cells": [
  {
   "metadata": {
    "collapsed": true
   },
   "cell_type": "code",
   "source": [
    "from datetime import timezone\n",
    "from pathlib import Path\n",
    "import pandas as pd\n",
    "import plotly.graph_objects as go"
   ],
   "id": "initial_id",
   "outputs": [],
   "execution_count": null
  },
  {
   "metadata": {},
   "cell_type": "code",
   "source": [
    "from tfmmeteogalicia.dataset import load_wrf_hist_dataset\n",
    "from tfmmeteogalicia.thredds_wrf import MeteoGaliciaNetCDFSubsetColumns, ThreddsWRFDomain, ThreddsWRFServerRun\n",
    "from tfmforecasting.dataset import AdditionalHousingUnitFields, HousingUnitColumns\n",
    "from tfmforecasting.preprocessing import (\n",
    "    add_datetime_to_housing_unit_dataset, lag_consumption_feature\n",
    ")\n",
    "from tfmforecasting.utils import find_cluster_files, get_housing_unit_name"
   ],
   "id": "6bd3f922a6756238",
   "outputs": [],
   "execution_count": null
  },
  {
   "metadata": {},
   "cell_type": "markdown",
   "source": "## Configuration",
   "id": "5f8d7e2eb7eaa"
  },
  {
   "metadata": {},
   "cell_type": "markdown",
   "source": "### General",
   "id": "15e00d9fc560d563"
  },
  {
   "metadata": {},
   "cell_type": "code",
   "source": [
    "year = 2024\n",
    "month = 5"
   ],
   "id": "864f24772b9f6874",
   "outputs": [],
   "execution_count": null
  },
  {
   "metadata": {},
   "cell_type": "markdown",
   "source": "### MeteoGalicia",
   "id": "d3c6ba0a04bbe06e"
  },
  {
   "metadata": {},
   "cell_type": "code",
   "source": [
    "domain: ThreddsWRFDomain = \"d02\"\n",
    "server_run: ThreddsWRFServerRun = \"0000\"\n",
    "weather_data_dir = Path(\"../data/meteogalicia/thredds/wrf_hist\").resolve()"
   ],
   "id": "68eb2f11587ecf16",
   "outputs": [],
   "execution_count": null
  },
  {
   "metadata": {},
   "cell_type": "markdown",
   "source": "Weather info ([Source](https://metar-taf.com/es/temperatures/provincia-de-zaragoza))",
   "id": "9502885be7e1bc63"
  },
  {
   "metadata": {},
   "cell_type": "code",
   "source": [
    "max_temp = 34.2 + 273.15\n",
    "min_temp = 4 + 273.15"
   ],
   "id": "6a07be78ff6632c5",
   "outputs": [],
   "execution_count": null
  },
  {
   "metadata": {},
   "cell_type": "markdown",
   "source": "### Housing Units",
   "id": "cd8c54ba294f67ec"
  },
  {
   "metadata": {},
   "cell_type": "code",
   "source": [
    "cluster_id = 0\n",
    "consumption_data_dir = Path('../../analisis_consumos/data/viviendas/por_mes_con_cluster/cluster_4').resolve()"
   ],
   "id": "c6c061340ff5626f",
   "outputs": [],
   "execution_count": null
  },
  {
   "metadata": {},
   "cell_type": "markdown",
   "source": "## Extract & Load",
   "id": "cf7593c5e81bf79c"
  },
  {
   "metadata": {},
   "cell_type": "code",
   "source": [
    "start_date = pd.Timestamp(year=year, month=month, day=1, tz=timezone.utc)\n",
    "end_date = pd.Timestamp(year=year, month=month + 1, day=1, tz=timezone.utc) - pd.Timedelta(days=1)\n",
    "dates = pd.date_range(start=start_date, end=end_date)\n",
    "weather_by_days = [\n",
    "    load_wrf_hist_dataset(weather_data_dir, domain, server_run, date)\n",
    "    for date in dates\n",
    "]\n",
    "weather_by_days = [\n",
    "    df[df[MeteoGaliciaNetCDFSubsetColumns.DATE] < date + pd.Timedelta(days=1, hours=1)].copy().reset_index(drop=True)\n",
    "    for df, date in zip(weather_by_days, dates)\n",
    "]\n",
    "weather_data = pd.concat(weather_by_days)\n",
    "weather_data"
   ],
   "id": "4fae5d6dff90e100",
   "outputs": [],
   "execution_count": null
  },
  {
   "metadata": {},
   "cell_type": "code",
   "source": [
    "cluster_files = find_cluster_files(consumption_data_dir, cluster_id, year=year, month=month)\n",
    "cluster_files.sort()\n",
    "csv_delimiter = ';'\n",
    "data_frames = []\n",
    "for cluster_file in cluster_files:\n",
    "    df = pd.read_csv(cluster_file, delimiter=csv_delimiter)\n",
    "    df = add_datetime_to_housing_unit_dataset(df)\n",
    "    df = lag_consumption_feature(df, n_lags=24)\n",
    "    df[AdditionalHousingUnitFields.HousingUnit] = get_housing_unit_name(cluster_file)\n",
    "    data_frames.append(df)\n",
    "cluster_data = pd.concat(data_frames)\n",
    "cluster_data = cluster_data.sort_values(by=[AdditionalHousingUnitFields.Datetime, AdditionalHousingUnitFields.HousingUnit]).reset_index(drop=True)\n",
    "cluster_data = cluster_data[\n",
    "    [AdditionalHousingUnitFields.Datetime, AdditionalHousingUnitFields.HousingUnit, HousingUnitColumns.Consumption]\n",
    "].copy().reset_index(drop=True)\n",
    "cluster_data[HousingUnitColumns.Consumption] = (cluster_data[HousingUnitColumns.Consumption] - cluster_data[HousingUnitColumns.Consumption].min()) / (cluster_data[HousingUnitColumns.Consumption].max() - cluster_data[HousingUnitColumns.Consumption].min())\n",
    "cluster_data"
   ],
   "id": "188d954767599d1c",
   "outputs": [],
   "execution_count": null
  },
  {
   "metadata": {},
   "cell_type": "markdown",
   "source": "Obtain the housing units associated with the cluster.",
   "id": "97bf599e7400072a"
  },
  {
   "metadata": {},
   "cell_type": "code",
   "source": [
    "housing_units = set([get_housing_unit_name(file) for file in cluster_files])\n",
    "housing_units"
   ],
   "id": "f8275194e0d08a56",
   "outputs": [],
   "execution_count": null
  },
  {
   "metadata": {},
   "cell_type": "markdown",
   "source": "## Transform",
   "id": "1ce4a717dd5da9cc"
  },
  {
   "metadata": {},
   "cell_type": "code",
   "source": [
    "weather_data[MeteoGaliciaNetCDFSubsetColumns.TEMP] = (weather_data[MeteoGaliciaNetCDFSubsetColumns.TEMP] - min_temp) / (max_temp - min_temp)\n",
    "weather_data"
   ],
   "id": "b02fddc6868451a8",
   "outputs": [],
   "execution_count": null
  },
  {
   "metadata": {},
   "cell_type": "code",
   "source": [
    "fig = go.Figure()\n",
    "fig.add_trace(\n",
    "    go.Scatter(\n",
    "        x=weather_data[MeteoGaliciaNetCDFSubsetColumns.DATE],\n",
    "        y=weather_data[MeteoGaliciaNetCDFSubsetColumns.TEMP],\n",
    "        mode='lines+markers',\n",
    "        name=MeteoGaliciaNetCDFSubsetColumns.TEMP,\n",
    "    )\n",
    ")\n",
    "for housing_unit in sorted(housing_units):\n",
    "    fig.add_trace(\n",
    "        go.Scatter(\n",
    "            x=cluster_data[cluster_data[AdditionalHousingUnitFields.HousingUnit] == housing_unit][AdditionalHousingUnitFields.Datetime],\n",
    "            y=cluster_data[cluster_data[AdditionalHousingUnitFields.HousingUnit] == housing_unit][HousingUnitColumns.Consumption],\n",
    "            mode='lines+markers',\n",
    "            name=housing_unit,\n",
    "        )\n",
    "    )\n",
    "fig.show()"
   ],
   "id": "c60711750edc545b",
   "outputs": [],
   "execution_count": null
  }
 ],
 "metadata": {
  "kernelspec": {
   "display_name": "Python 3",
   "language": "python",
   "name": "python3"
  },
  "language_info": {
   "codemirror_mode": {
    "name": "ipython",
    "version": 2
   },
   "file_extension": ".py",
   "mimetype": "text/x-python",
   "name": "python",
   "nbconvert_exporter": "python",
   "pygments_lexer": "ipython2",
   "version": "2.7.6"
  }
 },
 "nbformat": 4,
 "nbformat_minor": 5
}
